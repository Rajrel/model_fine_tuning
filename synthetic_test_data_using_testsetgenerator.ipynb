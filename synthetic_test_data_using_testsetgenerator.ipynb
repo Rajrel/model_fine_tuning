{
 "cells": [
  {
   "cell_type": "code",
   "execution_count": null,
   "metadata": {},
   "outputs": [],
   "source": [
    "\n",
    "!python -m pip install ragas  sentence_transformers xmltodict python-dotenv"
   ]
  },
  {
   "cell_type": "code",
   "execution_count": null,
   "metadata": {},
   "outputs": [],
   "source": [
    "! python -m pip install --upgrade google.generativeai"
   ]
  },
  {
   "cell_type": "code",
   "execution_count": 1,
   "metadata": {},
   "outputs": [],
   "source": [
    "from dotenv import load_dotenv, dotenv_values\n",
    "import google.generativeai as genai\n",
    "from IPython.display import Markdown, display\n",
    "import os\n",
    "\n",
    "# Load .env file\n",
    "\n",
    "load_dotenv()\n",
    "\n",
    "\n",
    "my_api_key = os.getenv(\"GOOGLE_API_KEY\")\n",
    "genai.configure(api_key=my_api_key)"
   ]
  },
  {
   "cell_type": "code",
   "execution_count": 8,
   "metadata": {},
   "outputs": [],
   "source": [
    "import pandas as pd\n",
    "from langchain_community.document_loaders import PubMedLoader\n",
    "from langchain_community.embeddings import HuggingFaceBgeEmbeddings\n",
    "from ragas.testset.generator import TestsetGenerator\n",
    "from ragas.testset.evolutions import simple, reasoning, multi_context"
   ]
  },
  {
   "cell_type": "code",
   "execution_count": 9,
   "metadata": {},
   "outputs": [],
   "source": [
    "from langchain_google_genai import ChatGoogleGenerativeAI,GoogleGenerativeAI\n",
    "\n",
    "from langchain_community.chat_models import ChatOllama\n",
    "\n",
    "data_generation_model = GoogleGenerativeAI(model=\"gemini-pro\")\n"
   ]
  },
  {
   "cell_type": "code",
   "execution_count": 10,
   "metadata": {},
   "outputs": [
    {
     "data": {
      "text/plain": [
       "'Hello there! How can I assist you today?'"
      ]
     },
     "execution_count": 10,
     "metadata": {},
     "output_type": "execute_result"
    }
   ],
   "source": [
    "data_generation_model.invoke(\"Hello\")"
   ]
  },
  {
   "cell_type": "code",
   "execution_count": 11,
   "metadata": {},
   "outputs": [],
   "source": [
    "\n",
    "critic_model = GoogleGenerativeAI(model=\"gemini-pro\",temperature=1)"
   ]
  },
  {
   "cell_type": "code",
   "execution_count": 12,
   "metadata": {},
   "outputs": [
    {
     "data": {
      "text/plain": [
       "'Hi, my name is Helper. I am an artificial intelligence chatbot that can help you with a variety of questions and tasks. \\n\\nHow can I help you improve your products or services today?'"
      ]
     },
     "execution_count": 12,
     "metadata": {},
     "output_type": "execute_result"
    }
   ],
   "source": [
    "critic_model.invoke(\"hello\")"
   ]
  },
  {
   "cell_type": "code",
   "execution_count": 13,
   "metadata": {},
   "outputs": [
    {
     "name": "stdout",
     "output_type": "stream",
     "text": [
      "WARNING:tensorflow:From C:\\Users\\dpokh\\AppData\\Roaming\\Python\\Python311\\site-packages\\tf_keras\\src\\losses.py:2976: The name tf.losses.sparse_softmax_cross_entropy is deprecated. Please use tf.compat.v1.losses.sparse_softmax_cross_entropy instead.\n",
      "\n"
     ]
    }
   ],
   "source": [
    "model_name = \"BAAI/bge-small-en\"\n",
    "model_kwargs = {\"device\": \"cpu\"}\n",
    "encode_kwargs = {\"normalize_embeddings\": True}\n",
    "embeddings = HuggingFaceBgeEmbeddings(\n",
    "    model_name=model_name, model_kwargs=model_kwargs, encode_kwargs=encode_kwargs\n",
    ")"
   ]
  },
  {
   "cell_type": "code",
   "execution_count": 14,
   "metadata": {},
   "outputs": [],
   "source": [
    "\n",
    "loader = PubMedLoader(\"cancer\", load_max_docs=5)"
   ]
  },
  {
   "cell_type": "code",
   "execution_count": 15,
   "metadata": {},
   "outputs": [],
   "source": [
    "\n",
    "documents = loader.load()"
   ]
  },
  {
   "cell_type": "code",
   "execution_count": 16,
   "metadata": {},
   "outputs": [
    {
     "name": "stdout",
     "output_type": "stream",
     "text": [
      "[Document(metadata={'uid': '39162093', 'Title': 'Interpretability of operative and pathological reports for radiotherapy planning of sinonasal carcinomas: An ancillary study of the GORTEC 2016-02 SANTAL trial.', 'Published': '2024-08-20', 'Copyright Information': '© 2024 ARS‐AAOA, LLC.'}, page_content='Interpretation of surgical mapping is essential for postoperative radiotherapy planning. Operative and pathological reports lack comprehensive information on margins quality and tissue block mapping. Standardizing reports is essential to reduce uncertainties, aiming for less morbid poRT.'),\n",
      " Document(metadata={'uid': '39162089', 'Title': 'Unraveling the role of oligodendrocytes and myelin in pain.', 'Published': '2024-08-20', 'Copyright Information': '© 2024 The Author(s). Journal of Neurochemistry published by John Wiley & Sons Ltd on behalf of International Society for Neurochemistry.'}, page_content='Oligodendrocytes, the myelin-producing cells in the central nervous system (CNS), are crucial for rapid action potential conduction and neuronal communication. While extensively studied for their roles in neuronal support and axonal insulation, their involvement in pain modulation is an emerging research area. This review explores the interplay between oligodendrocytes, myelination, and pain, focusing on neuropathic pain following peripheral nerve injury, spinal cord injury (SCI), chemotherapy, and HIV infection. Studies indicate that a decrease in oligodendrocytes and increased cytokine production by oligodendroglia in response to injury can induce or exacerbate pain. An increase in endogenous oligodendrocyte precursor cells (OPCs) may be a compensatory response to repair damaged oligodendrocytes. Exogenous OPC transplantation shows promise in alleviating SCI-induced neuropathic pain and enhancing remyelination. Additionally, oligodendrocyte apoptosis in brain regions such as the medial prefrontal cortex is linked to opioid-induced hyperalgesia, highlighting their role in central pain mechanisms. Chemotherapeutic agents disrupt oligodendrocyte differentiation, leading to persistent pain, while HIV-associated neuropathy involves up-regulation of oligodendrocyte lineage cell markers. These findings underscore the multifaceted roles of oligodendrocytes in pain pathways, suggesting that targeting myelination processes could offer new therapeutic strategies for chronic pain management. Further research should elucidate the underlying molecular mechanisms to develop effective pain treatments.'),\n",
      " Document(metadata={'uid': '39162083', 'Title': 'Experiencing the COVID-19 health crisis: Quality of life of young to mid-life hematology patients.', 'Published': '2024-08-20', 'Copyright Information': ''}, page_content='PURPOSE: This study questions the quality of life of young to mid-life hematology patients during lockdowns in France.\\nMETHOD: Fifteen semi-structured interviews were conducted in 2022.\\nFINDINGS: Thematic content analysis identified three main themes: (1) regulating fear of COVID-19 during the health crisis, (2) maintaining relationships and fostering social support during the pandemic, and (3) removing the stigma of cancer with COVID-19: a positive factor for patients\\' quality of life.\\nINTERPRETATION: Study participants experienced the restrictions imposed on the entire population in the face of COVID-19 in various ways, including positive events. In fact, for some, the lockdown situation allowed them to better \"fit in\" and feel less stigmatized because of their patient status. Indeed, lifestyles specific to them became common barrier gestures to the whole population.\\nIMPLICATIONS FOR PSYCHOSOCIAL PROVIDERS OR POLICY: The results underline the importance of broadening the communication fields and fostering psychosocial skills in these patients.'),\n",
      " Document(metadata={'uid': '39162079', 'Title': 'Comparison of the effects of three sourdough postbiotics on high-fat diet-induced intestinal damage.', 'Published': '2024-08-20', 'Copyright Information': ''}, page_content=\"['Lactiplantibacillus plantarum', 'Pediococcus pentosaceus', 'FASN', 'Leptin', 'SREBF1', 'Leptin', 'SREBF1', 'Occludin', 'ZO-1', 'Claudin-1', 'TNF-α', 'IL-6', 'IL-1β', 'Acinetobacter', 'Cetobacterium', 'Plesiomonas']\\n['8', '-1', '7', '-1']\\nThere is significant interest in using postbiotics as an intervention strategy to address obesity. This study assesses the efficacy of postbiotics derived from different sourdough strains ( LP1, LP25, and  PP18) in mitigating intestinal injury in zebrafish fed on a high-fat diet. We screened postbiotics for their anti-colon cancer cell effects and compared various preparation methods applied to live bacterial strains, including heat-killing at different temperatures, pH adjustments, and ultraviolet radiation exposure. Heat-killing at 120 °C proved to be the most effective preparation method. A marked variation in health effects was observed in the heat-killed microbial cells, as evidenced by their hydrophobicity and self-aggregation ability. A five-week high-fat dietary intervention study in zebrafish demonstrated that diets supplemented with 10 CFU g K-LP25 significantly attenuated weight gain and body fat, along with reductions in , , and  mRNA expression. However, diets supplemented with 10 CFU g K-PP18 only reduced  and  mRNA expression. K-PP18 was more effective at mitigating gut barrier damage, promoting colonic , , and  levels. Additionally, K-LP25 supplementation markedly downregulated the pro-inflammatory cytokines , , and , reducing intestinal inflammation. Supplementation with K-LP1 and K-PP18 increased the abundance of  spp., whereas K-LP25 increased the abundance of  and . Collectively, these findings suggest that inactivated strains confer protective effects against high-fat diet-induced intestinal damage in zebrafish, with variation observed across different species. Studying the effects of sourdough-derived postbiotics on gut health may open new avenues for dietary interventions to manage gut-related diseases.\"),\n",
      " Document(metadata={'uid': '39162066', 'Title': 'Cavernous Hemangioma of the Mastoid Antrum.', 'Published': '--', 'Copyright Information': ''}, page_content=\"Hemangioma is a common vascular neoplasm that arises in the head and neck regions but is rare in the petrous bone. We report the first case of a solitary cavernous hemangioma in the mastoid antrum. A 68-year-old woman visited our hospital with a complaint of tinnitus without any other symptoms. Tinnitus of the right ear occurred especially when the patient yawned or swallowed. Both tympanic membranes appeared normal on otoscopic examination. On pure-tone audiometry, mild hearing loss up to 25 dB was detected in the right ear. Temporal bone computed tomography revealed a 7.0 mm × 4.5 mm × 5 mm, solitary soft tissue mass in the aditus ad antrum. Excisional biopsy was performed under general anesthesia through the canal wall as in a mastoidectomy. The mass was completely removed without any bleeding or ossicular chain damage. The mass was confirmed as a cavernous hemangioma. During follow-up, the patient's tinnitus and right low-tone hearing loss improved. No solitary hemangioma of the mastoid antrum has been reported previously. Surgical excision of the lesion appears to be proper treatment to achieve pathologic confirmation along with resolution of symptoms.\")]\n"
     ]
    }
   ],
   "source": [
    "from pprint import pprint\n",
    "pprint(documents)"
   ]
  },
  {
   "cell_type": "code",
   "execution_count": 17,
   "metadata": {},
   "outputs": [],
   "source": [
    "generator = TestsetGenerator.from_langchain(\n",
    "    data_generation_model,\n",
    "    critic_model,\n",
    "    embeddings\n",
    ")\n",
    "     "
   ]
  },
  {
   "cell_type": "code",
   "execution_count": 18,
   "metadata": {},
   "outputs": [],
   "source": [
    "\n",
    "distributions = {\n",
    "    simple: 0.5,\n",
    "    multi_context: 0.4,\n",
    "    reasoning: 0.1\n",
    "}\n",
    "     "
   ]
  },
  {
   "cell_type": "code",
   "execution_count": 19,
   "metadata": {},
   "outputs": [
    {
     "data": {
      "application/vnd.jupyter.widget-view+json": {
       "model_id": "6548f6d6f0ff4b519289e38b8b8fe35c",
       "version_major": 2,
       "version_minor": 0
      },
      "text/plain": [
       "embedding nodes:   0%|          | 0/10 [00:00<?, ?it/s]"
      ]
     },
     "metadata": {},
     "output_type": "display_data"
    },
    {
     "name": "stderr",
     "output_type": "stream",
     "text": [
      "Filename and doc_id are the same for all nodes.\n"
     ]
    },
    {
     "data": {
      "application/vnd.jupyter.widget-view+json": {
       "model_id": "251ef5886e91443aae1c6fc58249bb65",
       "version_major": 2,
       "version_minor": 0
      },
      "text/plain": [
       "Generating:   0%|          | 0/5 [00:00<?, ?it/s]"
      ]
     },
     "metadata": {},
     "output_type": "display_data"
    },
    {
     "name": "stderr",
     "output_type": "stream",
     "text": [
      "Retrying langchain_google_genai.llms._completion_with_retry.<locals>._completion_with_retry in 4.0 seconds as it raised ResourceExhausted: 429 Resource has been exhausted (e.g. check quota)..\n",
      "Retrying langchain_google_genai.llms._completion_with_retry.<locals>._completion_with_retry in 4.0 seconds as it raised ResourceExhausted: 429 Resource has been exhausted (e.g. check quota)..\n",
      "Retrying langchain_google_genai.llms._completion_with_retry.<locals>._completion_with_retry in 4.0 seconds as it raised ResourceExhausted: 429 Resource has been exhausted (e.g. check quota)..\n",
      "Retrying langchain_google_genai.llms._completion_with_retry.<locals>._completion_with_retry in 4.0 seconds as it raised ResourceExhausted: 429 Resource has been exhausted (e.g. check quota)..\n",
      "Retrying langchain_google_genai.llms._completion_with_retry.<locals>._completion_with_retry in 4.0 seconds as it raised ResourceExhausted: 429 Resource has been exhausted (e.g. check quota)..\n",
      "Retrying langchain_google_genai.llms._completion_with_retry.<locals>._completion_with_retry in 4.0 seconds as it raised ResourceExhausted: 429 Resource has been exhausted (e.g. check quota)..\n",
      "Retrying langchain_google_genai.llms._completion_with_retry.<locals>._completion_with_retry in 4.0 seconds as it raised ResourceExhausted: 429 Resource has been exhausted (e.g. check quota)..\n",
      "Retrying langchain_google_genai.llms._completion_with_retry.<locals>._completion_with_retry in 4.0 seconds as it raised ResourceExhausted: 429 Resource has been exhausted (e.g. check quota)..\n",
      "Retrying langchain_google_genai.llms._completion_with_retry.<locals>._completion_with_retry in 4.0 seconds as it raised ResourceExhausted: 429 Resource has been exhausted (e.g. check quota)..\n",
      "Retrying langchain_google_genai.llms._completion_with_retry.<locals>._completion_with_retry in 4.0 seconds as it raised ResourceExhausted: 429 Resource has been exhausted (e.g. check quota)..\n",
      "Retrying langchain_google_genai.llms._completion_with_retry.<locals>._completion_with_retry in 4.0 seconds as it raised ResourceExhausted: 429 Resource has been exhausted (e.g. check quota)..\n",
      "Retrying langchain_google_genai.llms._completion_with_retry.<locals>._completion_with_retry in 4.0 seconds as it raised ResourceExhausted: 429 Resource has been exhausted (e.g. check quota)..\n",
      "Retrying langchain_google_genai.llms._completion_with_retry.<locals>._completion_with_retry in 4.0 seconds as it raised ResourceExhausted: 429 Resource has been exhausted (e.g. check quota)..\n",
      "Retrying langchain_google_genai.llms._completion_with_retry.<locals>._completion_with_retry in 4.0 seconds as it raised ResourceExhausted: 429 Resource has been exhausted (e.g. check quota)..\n",
      "Retrying langchain_google_genai.llms._completion_with_retry.<locals>._completion_with_retry in 4.0 seconds as it raised ResourceExhausted: 429 Resource has been exhausted (e.g. check quota)..\n",
      "Retrying langchain_google_genai.llms._completion_with_retry.<locals>._completion_with_retry in 8.0 seconds as it raised ResourceExhausted: 429 Resource has been exhausted (e.g. check quota)..\n",
      "Retrying langchain_google_genai.llms._completion_with_retry.<locals>._completion_with_retry in 8.0 seconds as it raised ResourceExhausted: 429 Resource has been exhausted (e.g. check quota)..\n",
      "Retrying langchain_google_genai.llms._completion_with_retry.<locals>._completion_with_retry in 8.0 seconds as it raised ResourceExhausted: 429 Resource has been exhausted (e.g. check quota)..\n",
      "Retrying langchain_google_genai.llms._completion_with_retry.<locals>._completion_with_retry in 8.0 seconds as it raised ResourceExhausted: 429 Resource has been exhausted (e.g. check quota)..\n",
      "Retrying langchain_google_genai.llms._completion_with_retry.<locals>._completion_with_retry in 8.0 seconds as it raised ResourceExhausted: 429 Resource has been exhausted (e.g. check quota)..\n",
      "Retrying langchain_google_genai.llms._completion_with_retry.<locals>._completion_with_retry in 10.0 seconds as it raised ResourceExhausted: 429 Resource has been exhausted (e.g. check quota)..\n",
      "Retrying langchain_google_genai.llms._completion_with_retry.<locals>._completion_with_retry in 10.0 seconds as it raised ResourceExhausted: 429 Resource has been exhausted (e.g. check quota)..\n",
      "Retrying langchain_google_genai.llms._completion_with_retry.<locals>._completion_with_retry in 10.0 seconds as it raised ResourceExhausted: 429 Resource has been exhausted (e.g. check quota)..\n",
      "Retrying langchain_google_genai.llms._completion_with_retry.<locals>._completion_with_retry in 10.0 seconds as it raised ResourceExhausted: 429 Resource has been exhausted (e.g. check quota)..\n",
      "Retrying langchain_google_genai.llms._completion_with_retry.<locals>._completion_with_retry in 10.0 seconds as it raised ResourceExhausted: 429 Resource has been exhausted (e.g. check quota)..\n",
      "Retrying langchain_google_genai.llms._completion_with_retry.<locals>._completion_with_retry in 4.0 seconds as it raised ResourceExhausted: 429 Resource has been exhausted (e.g. check quota)..\n",
      "Retrying langchain_google_genai.llms._completion_with_retry.<locals>._completion_with_retry in 4.0 seconds as it raised ResourceExhausted: 429 Resource has been exhausted (e.g. check quota)..\n",
      "Retrying langchain_google_genai.llms._completion_with_retry.<locals>._completion_with_retry in 4.0 seconds as it raised ResourceExhausted: 429 Resource has been exhausted (e.g. check quota)..\n",
      "Retrying langchain_google_genai.llms._completion_with_retry.<locals>._completion_with_retry in 4.0 seconds as it raised ResourceExhausted: 429 Resource has been exhausted (e.g. check quota)..\n",
      "Retrying langchain_google_genai.llms._completion_with_retry.<locals>._completion_with_retry in 4.0 seconds as it raised ResourceExhausted: 429 Resource has been exhausted (e.g. check quota)..\n",
      "Retrying langchain_google_genai.llms._completion_with_retry.<locals>._completion_with_retry in 4.0 seconds as it raised ResourceExhausted: 429 Resource has been exhausted (e.g. check quota)..\n",
      "Retrying langchain_google_genai.llms._completion_with_retry.<locals>._completion_with_retry in 4.0 seconds as it raised ResourceExhausted: 429 Resource has been exhausted (e.g. check quota)..\n",
      "Retrying langchain_google_genai.llms._completion_with_retry.<locals>._completion_with_retry in 4.0 seconds as it raised ResourceExhausted: 429 Resource has been exhausted (e.g. check quota)..\n",
      "Retrying langchain_google_genai.llms._completion_with_retry.<locals>._completion_with_retry in 4.0 seconds as it raised ResourceExhausted: 429 Resource has been exhausted (e.g. check quota)..\n",
      "Retrying langchain_google_genai.llms._completion_with_retry.<locals>._completion_with_retry in 8.0 seconds as it raised ResourceExhausted: 429 Resource has been exhausted (e.g. check quota)..\n",
      "Retrying langchain_google_genai.llms._completion_with_retry.<locals>._completion_with_retry in 8.0 seconds as it raised ResourceExhausted: 429 Resource has been exhausted (e.g. check quota)..\n",
      "Retrying langchain_google_genai.llms._completion_with_retry.<locals>._completion_with_retry in 4.0 seconds as it raised ResourceExhausted: 429 Resource has been exhausted (e.g. check quota)..\n",
      "Retrying langchain_google_genai.llms._completion_with_retry.<locals>._completion_with_retry in 10.0 seconds as it raised ResourceExhausted: 429 Resource has been exhausted (e.g. check quota)..\n",
      "Retrying langchain_google_genai.llms._completion_with_retry.<locals>._completion_with_retry in 4.0 seconds as it raised ResourceExhausted: 429 Resource has been exhausted (e.g. check quota)..\n",
      "Retrying langchain_google_genai.llms._completion_with_retry.<locals>._completion_with_retry in 10.0 seconds as it raised ResourceExhausted: 429 Resource has been exhausted (e.g. check quota)..\n",
      "Retrying langchain_google_genai.llms._completion_with_retry.<locals>._completion_with_retry in 4.0 seconds as it raised ResourceExhausted: 429 Resource has been exhausted (e.g. check quota)..\n",
      "Retrying langchain_google_genai.llms._completion_with_retry.<locals>._completion_with_retry in 4.0 seconds as it raised ResourceExhausted: 429 Resource has been exhausted (e.g. check quota)..\n",
      "Retrying langchain_google_genai.llms._completion_with_retry.<locals>._completion_with_retry in 4.0 seconds as it raised ResourceExhausted: 429 Resource has been exhausted (e.g. check quota)..\n",
      "Retrying langchain_google_genai.llms._completion_with_retry.<locals>._completion_with_retry in 4.0 seconds as it raised ResourceExhausted: 429 Resource has been exhausted (e.g. check quota)..\n",
      "Retrying langchain_google_genai.llms._completion_with_retry.<locals>._completion_with_retry in 8.0 seconds as it raised ResourceExhausted: 429 Resource has been exhausted (e.g. check quota)..\n",
      "Retrying langchain_google_genai.llms._completion_with_retry.<locals>._completion_with_retry in 4.0 seconds as it raised ResourceExhausted: 429 Resource has been exhausted (e.g. check quota)..\n",
      "Retrying langchain_google_genai.llms._completion_with_retry.<locals>._completion_with_retry in 4.0 seconds as it raised ResourceExhausted: 429 Resource has been exhausted (e.g. check quota)..\n",
      "Retrying langchain_google_genai.llms._completion_with_retry.<locals>._completion_with_retry in 4.0 seconds as it raised ResourceExhausted: 429 Resource has been exhausted (e.g. check quota)..\n",
      "Retrying langchain_google_genai.llms._completion_with_retry.<locals>._completion_with_retry in 4.0 seconds as it raised ResourceExhausted: 429 Resource has been exhausted (e.g. check quota)..\n",
      "Retrying langchain_google_genai.llms._completion_with_retry.<locals>._completion_with_retry in 10.0 seconds as it raised ResourceExhausted: 429 Resource has been exhausted (e.g. check quota)..\n",
      "Retrying langchain_google_genai.llms._completion_with_retry.<locals>._completion_with_retry in 8.0 seconds as it raised ResourceExhausted: 429 Resource has been exhausted (e.g. check quota)..\n",
      "Retrying langchain_google_genai.llms._completion_with_retry.<locals>._completion_with_retry in 8.0 seconds as it raised ResourceExhausted: 429 Resource has been exhausted (e.g. check quota)..\n",
      "Retrying langchain_google_genai.llms._completion_with_retry.<locals>._completion_with_retry in 4.0 seconds as it raised ResourceExhausted: 429 Resource has been exhausted (e.g. check quota)..\n"
     ]
    }
   ],
   "source": [
    "\n",
    "testset = generator.generate_with_langchain_docs(documents, 5, distributions)"
   ]
  },
  {
   "cell_type": "code",
   "execution_count": 20,
   "metadata": {},
   "outputs": [],
   "source": [
    "test_df = testset.to_pandas()"
   ]
  },
  {
   "cell_type": "code",
   "execution_count": 21,
   "metadata": {},
   "outputs": [
    {
     "data": {
      "text/html": [
       "<div>\n",
       "<style scoped>\n",
       "    .dataframe tbody tr th:only-of-type {\n",
       "        vertical-align: middle;\n",
       "    }\n",
       "\n",
       "    .dataframe tbody tr th {\n",
       "        vertical-align: top;\n",
       "    }\n",
       "\n",
       "    .dataframe thead th {\n",
       "        text-align: right;\n",
       "    }\n",
       "</style>\n",
       "<table border=\"1\" class=\"dataframe\">\n",
       "  <thead>\n",
       "    <tr style=\"text-align: right;\">\n",
       "      <th></th>\n",
       "      <th>question</th>\n",
       "      <th>contexts</th>\n",
       "      <th>ground_truth</th>\n",
       "      <th>evolution_type</th>\n",
       "      <th>metadata</th>\n",
       "      <th>episode_done</th>\n",
       "    </tr>\n",
       "  </thead>\n",
       "  <tbody>\n",
       "    <tr>\n",
       "      <th>0</th>\n",
       "      <td>How do sourdough strains mitigate intestinal i...</td>\n",
       "      <td>[['Lactiplantibacillus plantarum', 'Pediococcu...</td>\n",
       "      <td>Sourdough strains mitigate intestinal injury i...</td>\n",
       "      <td>simple</td>\n",
       "      <td>[{'uid': '39162079', 'Title': 'Comparison of t...</td>\n",
       "      <td>True</td>\n",
       "    </tr>\n",
       "    <tr>\n",
       "      <th>1</th>\n",
       "      <td>What was the patient's initial symptom upon vi...</td>\n",
       "      <td>[Hemangioma is a common vascular neoplasm that...</td>\n",
       "      <td>The patient visited the hospital with a compla...</td>\n",
       "      <td>simple</td>\n",
       "      <td>[{'uid': '39162066', 'Title': 'Cavernous Heman...</td>\n",
       "      <td>True</td>\n",
       "    </tr>\n",
       "    <tr>\n",
       "      <th>2</th>\n",
       "      <td>Does RT planning precision improve post-surger...</td>\n",
       "      <td>[Interpretation of surgical mapping is essenti...</td>\n",
       "      <td>The answer to given question is not present in...</td>\n",
       "      <td>multi_context</td>\n",
       "      <td>[{'uid': '39162093', 'Title': 'Interpretabilit...</td>\n",
       "      <td>True</td>\n",
       "    </tr>\n",
       "    <tr>\n",
       "      <th>3</th>\n",
       "      <td>How did sourdough postbiotics affect gut damag...</td>\n",
       "      <td>[['Lactiplantibacillus plantarum', 'Pediococcu...</td>\n",
       "      <td>Sourdough postbiotics derived from heat-killed...</td>\n",
       "      <td>multi_context</td>\n",
       "      <td>[{'uid': '39162079', 'Title': 'Comparison of t...</td>\n",
       "      <td>True</td>\n",
       "    </tr>\n",
       "    <tr>\n",
       "      <th>4</th>\n",
       "      <td>How is margin accuracy in poRT surgical mappin...</td>\n",
       "      <td>[Interpretation of surgical mapping is essenti...</td>\n",
       "      <td>The answer to given question is not present in...</td>\n",
       "      <td>multi_context</td>\n",
       "      <td>[{'uid': '39162093', 'Title': 'Interpretabilit...</td>\n",
       "      <td>True</td>\n",
       "    </tr>\n",
       "  </tbody>\n",
       "</table>\n",
       "</div>"
      ],
      "text/plain": [
       "                                            question  \\\n",
       "0  How do sourdough strains mitigate intestinal i...   \n",
       "1  What was the patient's initial symptom upon vi...   \n",
       "2  Does RT planning precision improve post-surger...   \n",
       "3  How did sourdough postbiotics affect gut damag...   \n",
       "4  How is margin accuracy in poRT surgical mappin...   \n",
       "\n",
       "                                            contexts  \\\n",
       "0  [['Lactiplantibacillus plantarum', 'Pediococcu...   \n",
       "1  [Hemangioma is a common vascular neoplasm that...   \n",
       "2  [Interpretation of surgical mapping is essenti...   \n",
       "3  [['Lactiplantibacillus plantarum', 'Pediococcu...   \n",
       "4  [Interpretation of surgical mapping is essenti...   \n",
       "\n",
       "                                        ground_truth evolution_type  \\\n",
       "0  Sourdough strains mitigate intestinal injury i...         simple   \n",
       "1  The patient visited the hospital with a compla...         simple   \n",
       "2  The answer to given question is not present in...  multi_context   \n",
       "3  Sourdough postbiotics derived from heat-killed...  multi_context   \n",
       "4  The answer to given question is not present in...  multi_context   \n",
       "\n",
       "                                            metadata  episode_done  \n",
       "0  [{'uid': '39162079', 'Title': 'Comparison of t...          True  \n",
       "1  [{'uid': '39162066', 'Title': 'Cavernous Heman...          True  \n",
       "2  [{'uid': '39162093', 'Title': 'Interpretabilit...          True  \n",
       "3  [{'uid': '39162079', 'Title': 'Comparison of t...          True  \n",
       "4  [{'uid': '39162093', 'Title': 'Interpretabilit...          True  "
      ]
     },
     "execution_count": 21,
     "metadata": {},
     "output_type": "execute_result"
    }
   ],
   "source": [
    "test_df"
   ]
  },
  {
   "cell_type": "code",
   "execution_count": 22,
   "metadata": {},
   "outputs": [],
   "source": [
    "test_df.to_csv('eval_set.csv', sep=',', encoding='utf-8', index=False, header=True)"
   ]
  }
 ],
 "metadata": {
  "kernelspec": {
   "display_name": "Python 3",
   "language": "python",
   "name": "python3"
  },
  "language_info": {
   "codemirror_mode": {
    "name": "ipython",
    "version": 3
   },
   "file_extension": ".py",
   "mimetype": "text/x-python",
   "name": "python",
   "nbconvert_exporter": "python",
   "pygments_lexer": "ipython3",
   "version": "3.11.5"
  }
 },
 "nbformat": 4,
 "nbformat_minor": 2
}
